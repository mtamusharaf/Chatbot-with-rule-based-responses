{
  "nbformat": 4,
  "nbformat_minor": 0,
  "metadata": {
    "colab": {
      "provenance": [],
      "authorship_tag": "ABX9TyOAWSNByr88l/kjHicsCNU/",
      "include_colab_link": true
    },
    "kernelspec": {
      "name": "python3",
      "display_name": "Python 3"
    },
    "language_info": {
      "name": "python"
    }
  },
  "cells": [
    {
      "cell_type": "markdown",
      "metadata": {
        "id": "view-in-github",
        "colab_type": "text"
      },
      "source": [
        "<a href=\"https://colab.research.google.com/github/mtamusharaf/codsoft_taskno1/blob/main/Chatbot%20with%20rule-based%20responses.ipynb\" target=\"_parent\"><img src=\"https://colab.research.google.com/assets/colab-badge.svg\" alt=\"Open In Colab\"/></a>"
      ]
    },
    {
      "cell_type": "code",
      "source": [
        "import re\n",
        "import random\n",
        "\n",
        "# Define patterns and responses\n",
        "patterns = [\n",
        "    (r\"(hi|hello|hey)\", [\"Hello!\", \"Hi there!\", \"Hey! How can I help you today?\"]),\n",
        "    (r\"how are you\", [\"I'm just a chatbot, but I'm here to assist you!\"]),\n",
        "    (r\"what(?:\\s+is|'s) your name\", [\"You can call me ChatBot.\"]),\n",
        "    (r\"bye|goodbye\", [\"Goodbye! Have a wonderful day!\", \"Farewell!\"]),\n",
        "    (r\"tell me more about (.+)\", [\"Sure, I'd be happy to learn more about %s.\", \"I'm all ears about %s.\"]),\n",
        "    (r\"weather\", [\"I'm not equipped to provide real-time weather information.\"]),\n",
        "    (r\"help\", [\"I'm here to help! Just let me know what you need.\"]),\n",
        "    (r\"(.+)\", [\"I'm sorry, I'm not sure I understand what you mean by \\\"%s\\\".\", \"Could you please rephrase that?\"])\n",
        "]\n",
        "\n",
        "# Function to process user input and provide responses\n",
        "def chatbot_response(user_input):\n",
        "    user_input = user_input.lower()\n",
        "\n",
        "    for pattern, responses in patterns:\n",
        "        match = re.search(pattern, user_input)\n",
        "        if match:\n",
        "            response = random.choice(responses)  # Choose a random response from the list\n",
        "            if \"%s\" in response:  # If response contains a placeholder\n",
        "                response = response % match.group(1)  # Replace placeholder with matched group\n",
        "            return response\n",
        "\n",
        "    return \"I'm sorry, I didn't quite catch that.\"\n",
        "\n",
        "# Main loop to run the chatbot\n",
        "print(\"ChatBot: Hello! How can I assist you today?\")\n",
        "while True:\n",
        "    user_input = input(\"You: \")\n",
        "    if user_input.lower() == \"exit\":\n",
        "        print(\"ChatBot: Goodbye! Have a great day!\")\n",
        "        break\n",
        "    response = chatbot_response(user_input)\n",
        "    print(\"ChatBot:\", response)"
      ],
      "metadata": {
        "colab": {
          "base_uri": "https://localhost:8080/"
        },
        "id": "phMDeZzsnIWe",
        "outputId": "fcfd7147-9e65-4a1e-a331-dad77e42de9b"
      },
      "execution_count": 4,
      "outputs": [
        {
          "output_type": "stream",
          "name": "stdout",
          "text": [
            "ChatBot: Hello! How can I assist you today?\n",
            "You: Hello\n",
            "ChatBot: Hi there!\n",
            "You: What's your name?\n",
            "ChatBot: You can call me ChatBot.\n",
            "You: Exit\n",
            "ChatBot: Goodbye! Have a great day!\n"
          ]
        }
      ]
    }
  ]
}